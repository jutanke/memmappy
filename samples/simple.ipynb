{
 "cells": [
  {
   "cell_type": "code",
   "execution_count": 3,
   "metadata": {},
   "outputs": [
    {
     "name": "stdout",
     "output_type": "stream",
     "text": [
      "item:4/4 (5, 5, 1)\n",
      "item (list):1/1 (10, 12, 3)\n",
      "item (list):3/3 (9, 12, 3)\n",
      "--\n",
      "item (range):2/2 (10, 10, 3)\n",
      "item (range):3/3 (9, 12, 3)\n",
      "item (range):4/4 (5, 5, 1)\n"
     ]
    }
   ],
   "source": [
    "import numpy as np\n",
    "import sys\n",
    "sys.path.insert(0, '../')\n",
    "\n",
    "from mmpy import mmpy as mm\n",
    "\n",
    "fname = '/tmp/test.npy'\n",
    "n = 10\n",
    "max_shape = (10, 12, 3)\n",
    "dtype = 'uint8'\n",
    "\n",
    "A = np.ones((10, 12, 3))\n",
    "B = np.ones((10, 10, 3)) * 2\n",
    "C = np.ones((9, 12, 3)) * 3\n",
    "D = np.ones((5, 5, 1)) * 4\n",
    "\n",
    "\n",
    "with mm.Writer(fname, n, max_shape, dtype) as f:\n",
    "    for d in [A,B,C,D]:\n",
    "        f.add(d)\n",
    "\n",
    "\n",
    "R = mm.Reader(fname)\n",
    "A_ = R[3]\n",
    "print(\"item:\" + str(np.max(A_)) + \"/\" + str(np.min(A_)), A_.shape)\n",
    "\n",
    "for item in R[[0, 2]]:\n",
    "    print(\"item (list):\" + \\\n",
    "          str(np.max(item)) + \"/\" + str(np.min(item)), item.shape)\n",
    "\n",
    "    \n",
    "print('--')\n",
    "for item in R[1:4]:\n",
    "    print(\"item (range):\" + \\\n",
    "          str(np.max(item)) + \"/\" + str(np.min(item)), item.shape)\n",
    "\n",
    "        \n",
    "mm.delete(fname)"
   ]
  }
 ],
 "metadata": {
  "kernelspec": {
   "display_name": "Python 3",
   "language": "python",
   "name": "python3"
  },
  "language_info": {
   "codemirror_mode": {
    "name": "ipython",
    "version": 3
   },
   "file_extension": ".py",
   "mimetype": "text/x-python",
   "name": "python",
   "nbconvert_exporter": "python",
   "pygments_lexer": "ipython3",
   "version": "3.6.4"
  }
 },
 "nbformat": 4,
 "nbformat_minor": 2
}
