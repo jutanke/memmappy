{
 "cells": [
  {
   "cell_type": "code",
   "execution_count": 1,
   "metadata": {},
   "outputs": [
    {
     "name": "stdout",
     "output_type": "stream",
     "text": [
      "qq\n",
      "[0 1 2 3 4 5 6 7 8 9]\n",
      "---\n",
      "0\n",
      "1\n",
      "2\n",
      "3\n"
     ]
    }
   ],
   "source": [
    "import numpy as np\n",
    "import sys\n",
    "sys.path.insert(0, '../')\n",
    "\n",
    "from mmpy import mmpy as mm\n",
    "\n",
    "fname = '/tmp/test.npy'\n",
    "n = 10\n",
    "max_shape = (10, 12, 3)\n",
    "dtype = 'uint8'\n",
    "\n",
    "A = np.ones((10, 12, 3))\n",
    "B = np.ones((10, 10, 3)) * 2\n",
    "C = np.ones((9, 12, 3)) * 3\n",
    "D = np.ones((5, 5, 1)) * 4\n",
    "\n",
    "\n",
    "with mm.Writer(fname, n, max_shape, dtype) as f:\n",
    "    for d in [A,B,C,D]:\n",
    "        f.add(d)\n",
    "\n",
    "        \n",
    "mm.del(fname)"
   ]
  }
 ],
 "metadata": {
  "kernelspec": {
   "display_name": "Python 3",
   "language": "python",
   "name": "python3"
  },
  "language_info": {
   "codemirror_mode": {
    "name": "ipython",
    "version": 3
   },
   "file_extension": ".py",
   "mimetype": "text/x-python",
   "name": "python",
   "nbconvert_exporter": "python",
   "pygments_lexer": "ipython3",
   "version": "3.6.4"
  }
 },
 "nbformat": 4,
 "nbformat_minor": 2
}
